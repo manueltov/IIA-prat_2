{
 "cells": [
  {
   "cell_type": "markdown",
   "metadata": {},
   "source": [
    "## Calcular o Troco\n",
    "Supõe que tens um número arbitrário de moedas de 50, 20, 10, 5, 2 e 1 cêntimos, e que pretendes dar o troco no valor de N cêntimos, utilizando o menor número de moedas. Formula o problema em Python, seguindo o paradigma do Espaço de Estados e a plataforma aimas-python, de modo a poder resolver o problema de saber quais as moedas a utilizar para formar qualquer troco desejado.\n",
    "Se quiser pode modelar de modo a poder fornecer a lista de moedas com que pode gerar o troco, não ficando obrigado à lista de 50, 20, 10, 5, 2 e 1."
   ]
  },
  {
   "cell_type": "code",
   "execution_count": 2,
   "metadata": {},
   "outputs": [
    {
     "ename": "ModuleNotFoundError",
     "evalue": "No module named 'searchPlus'",
     "output_type": "error",
     "traceback": [
      "\u001b[1;31m---------------------------------------------------------------------------\u001b[0m",
      "\u001b[1;31mModuleNotFoundError\u001b[0m                       Traceback (most recent call last)",
      "\u001b[1;32m<ipython-input-2-e1e89643a07b>\u001b[0m in \u001b[0;36m<module>\u001b[1;34m\u001b[0m\n\u001b[1;32m----> 1\u001b[1;33m \u001b[1;32mfrom\u001b[0m \u001b[0msearchPlus\u001b[0m \u001b[1;32mimport\u001b[0m \u001b[1;33m*\u001b[0m\u001b[1;33m\u001b[0m\u001b[1;33m\u001b[0m\u001b[0m\n\u001b[0m",
      "\u001b[1;31mModuleNotFoundError\u001b[0m: No module named 'searchPlus'"
     ]
    }
   ],
   "source": [
    "from searchPlus import *"
   ]
  },
  {
   "cell_type": "code",
   "execution_count": 3,
   "metadata": {},
   "outputs": [
    {
     "ename": "NameError",
     "evalue": "name 'Problem' is not defined",
     "output_type": "error",
     "traceback": [
      "\u001b[1;31m---------------------------------------------------------------------------\u001b[0m",
      "\u001b[1;31mNameError\u001b[0m                                 Traceback (most recent call last)",
      "\u001b[1;32m<ipython-input-3-6e1ec763cd40>\u001b[0m in \u001b[0;36m<module>\u001b[1;34m\u001b[0m\n\u001b[1;32m----> 1\u001b[1;33m \u001b[1;32mclass\u001b[0m \u001b[0mTroco\u001b[0m\u001b[1;33m(\u001b[0m\u001b[0mProblem\u001b[0m\u001b[1;33m)\u001b[0m\u001b[1;33m:\u001b[0m\u001b[1;33m\u001b[0m\u001b[1;33m\u001b[0m\u001b[0m\n\u001b[0m\u001b[0;32m      2\u001b[0m     \"\"\" Vamos ter como estado uma lista de moedas que tem de estar sempre ordenada.\n\u001b[0;32m      3\u001b[0m         \u001b[0mNotem\u001b[0m \u001b[0mque\u001b[0m \u001b[0mpodemos\u001b[0m \u001b[0mter\u001b[0m \u001b[0mvárias\u001b[0m \u001b[0mcombinações\u001b[0m \u001b[0mde\u001b[0m \u001b[1;33m[\u001b[0m\u001b[1;36m10\u001b[0m\u001b[1;33m,\u001b[0m\u001b[1;36m2\u001b[0m\u001b[1;33m,\u001b[0m\u001b[1;36m1\u001b[0m\u001b[1;33m]\u001b[0m \u001b[0mmass\u001b[0m \u001b[0mque\u001b[0m \u001b[0mtodas\u001b[0m \u001b[0mrepresentam\u001b[0m\u001b[1;33m\u001b[0m\u001b[1;33m\u001b[0m\u001b[0m\n\u001b[0;32m      4\u001b[0m         \u001b[0mtermos\u001b[0m \u001b[0messas\u001b[0m \u001b[1;36m3\u001b[0m \u001b[0mmoedas\u001b[0m \u001b[0me\u001b[0m \u001b[0mdaí\u001b[0m \u001b[0ma\u001b[0m \u001b[0mordenação\u001b[0m \u001b[0mpara\u001b[0m \u001b[0mque\u001b[0m \u001b[0mo\u001b[0m \u001b[0mespaço\u001b[0m \u001b[0mde\u001b[0m \u001b[0mestados\u001b[0m \u001b[0mseja\u001b[0m \u001b[0mmínimo\u001b[0m\u001b[1;33m.\u001b[0m\u001b[1;33m\u001b[0m\u001b[1;33m\u001b[0m\u001b[0m\n\u001b[0;32m      5\u001b[0m     \"\"\"\n",
      "\u001b[1;31mNameError\u001b[0m: name 'Problem' is not defined"
     ]
    }
   ],
   "source": [
    "class Troco(Problem):\n",
    "    \"\"\" Vamos ter como estado uma lista de moedas que tem de estar sempre ordenada.\n",
    "        Notem que podemos ter várias combinações de [10,2,1] mass que todas representam\n",
    "        termos essas 3 moedas e daí a ordenação para que o espaço de estados seja mínimo.\n",
    "    \"\"\"\n",
    "      \n",
    "    def __init__(self, initial=[], goal=87, moedas = [50,20,10,5,2,1] ):\n",
    "        self.initial, self.goal, self.moedas = initial, goal, moedas\n",
    "            \n",
    "    def actions(self, state):\n",
    "        \"\"\"Indicação das peças que vão deslizar...\"\"\"\n",
    "        return [m for m in self.moedas if sum(state)+m <= self.goal]\n",
    "    \n",
    "    def result(self, state, action):\n",
    "        \"\"\"adicionar mais uma moeda  `.\"\"\"\n",
    "        new = state.copy()\n",
    "        new.append(action)\n",
    "        new.sort()\n",
    "        return new\n",
    "    \n",
    "    def goal_test(self,state):\n",
    "        return sum(state) == self.goal"
   ]
  },
  {
   "cell_type": "code",
   "execution_count": null,
   "metadata": {},
   "outputs": [],
   "source": [
    "p = Troco(moedas=[10,2,1],goal=23)"
   ]
  },
  {
   "cell_type": "code",
   "execution_count": null,
   "metadata": {},
   "outputs": [],
   "source": [
    "e0=p.initial\n",
    "print(e0)"
   ]
  },
  {
   "cell_type": "code",
   "execution_count": null,
   "metadata": {},
   "outputs": [],
   "source": [
    "p.actions(e0)"
   ]
  },
  {
   "cell_type": "code",
   "execution_count": null,
   "metadata": {},
   "outputs": [],
   "source": [
    "e1=p.result(e0,10)\n",
    "print(e1)"
   ]
  },
  {
   "cell_type": "markdown",
   "metadata": {},
   "source": [
    "Testemos se o estado inicial mudou."
   ]
  },
  {
   "cell_type": "code",
   "execution_count": null,
   "metadata": {},
   "outputs": [],
   "source": [
    "p.initial"
   ]
  },
  {
   "cell_type": "code",
   "execution_count": null,
   "metadata": {},
   "outputs": [],
   "source": [
    "e2=p.result(e1,10)\n",
    "print(e2)\n",
    "print(e1)"
   ]
  },
  {
   "cell_type": "code",
   "execution_count": null,
   "metadata": {},
   "outputs": [],
   "source": [
    "p.actions(e2)"
   ]
  },
  {
   "cell_type": "code",
   "execution_count": null,
   "metadata": {},
   "outputs": [],
   "source": [
    "e3=p.result(e2,1)\n",
    "print(e3)"
   ]
  },
  {
   "cell_type": "code",
   "execution_count": null,
   "metadata": {},
   "outputs": [],
   "source": [
    "p.actions(e3)"
   ]
  },
  {
   "cell_type": "code",
   "execution_count": null,
   "metadata": {},
   "outputs": [],
   "source": [
    "e4=p.result(e3,2)\n",
    "print(e4)"
   ]
  },
  {
   "cell_type": "code",
   "execution_count": null,
   "metadata": {},
   "outputs": [],
   "source": [
    "p.actions(e4)"
   ]
  },
  {
   "cell_type": "code",
   "execution_count": null,
   "metadata": {},
   "outputs": [],
   "source": [
    "p.goal_test(e4)"
   ]
  },
  {
   "cell_type": "markdown",
   "metadata": {},
   "source": [
    "Poderíamos formular de uma maneira alternativa que não implicasse uma ordenação das moedas.\n",
    "Usaremos uma tabela (dicionário) que é um contador, as chaves são as moedas e os valores os contadores. Para que possamos somar o valor do troco, faremos um método que pode estar fora da classe a que chamaremos de ***contaTotal()***."
   ]
  },
  {
   "cell_type": "code",
   "execution_count": null,
   "metadata": {},
   "outputs": [],
   "source": [
    "def contaTotal(dic):\n",
    "    soma = 0\n",
    "    for i in dic.keys():\n",
    "        soma += i * dic[i]\n",
    "    return soma"
   ]
  },
  {
   "cell_type": "code",
   "execution_count": null,
   "metadata": {},
   "outputs": [],
   "source": [
    "moedas = {1:2,2:3,5:0,10:0,20:0,50:2}"
   ]
  },
  {
   "cell_type": "code",
   "execution_count": null,
   "metadata": {},
   "outputs": [],
   "source": [
    "contaTotal(moedas)"
   ]
  },
  {
   "cell_type": "code",
   "execution_count": null,
   "metadata": {},
   "outputs": [],
   "source": [
    "class Troco(Problem):\n",
    "    \"\"\" Vamos ter\n",
    "    \"\"\"\n",
    "    \n",
    "        \n",
    "    def __init__(self, initial={1:0,2:0,5:0,10:0,20:0,50:0}, goal=87, moedas = [50,20,10,5,2,1]\n",
    "):\n",
    "        self.initial, self.goal, self.moedas = initial, goal, moedas\n",
    "            \n",
    "    def actions(self, state):\n",
    "        \"\"\"Indicação das peças que vão deslizar...\"\"\"\n",
    "        return [m for m in self.moedas if contaTotal(state)+m <= self.goal]\n",
    "    \n",
    "    def result(self, state, action):\n",
    "        \"\"\"adicionar mais uma moeda  `.\"\"\"\n",
    "        new = state.copy()\n",
    "        new[action]+=1\n",
    "        return new\n",
    "    \n",
    "    def goal_test(self,state):\n",
    "        return contaTotal(state) == self.goal"
   ]
  },
  {
   "cell_type": "code",
   "execution_count": null,
   "metadata": {},
   "outputs": [],
   "source": [
    "t = Troco()"
   ]
  },
  {
   "cell_type": "code",
   "execution_count": null,
   "metadata": {},
   "outputs": [],
   "source": [
    "print(t.initial)"
   ]
  },
  {
   "cell_type": "code",
   "execution_count": null,
   "metadata": {},
   "outputs": [],
   "source": [
    "t.actions(t.initial)"
   ]
  },
  {
   "cell_type": "code",
   "execution_count": null,
   "metadata": {},
   "outputs": [],
   "source": [
    "e1=t.result(t.initial,50)\n",
    "print(e1)"
   ]
  },
  {
   "cell_type": "code",
   "execution_count": null,
   "metadata": {},
   "outputs": [],
   "source": [
    "t.actions(e1)"
   ]
  },
  {
   "cell_type": "markdown",
   "metadata": {},
   "source": [
    "**Exercício**: Podem fazer uma variante deste exercício que é considerar que não possuem um número infinito de cada uma das moedas mas que elas existem em quantidades limitadas. Por exemplo, calcule o troco de 87 sabendo que têm 1 moeda de 50, 2 moedas de 10, 4 moedas de 2 e 10 moedas de 1 cêntimo."
   ]
  }
 ],
 "metadata": {
  "kernelspec": {
   "display_name": "Python 3",
   "language": "python",
   "name": "python3"
  },
  "language_info": {
   "codemirror_mode": {
    "name": "ipython",
    "version": 3
   },
   "file_extension": ".py",
   "mimetype": "text/x-python",
   "name": "python",
   "nbconvert_exporter": "python",
   "pygments_lexer": "ipython3",
   "version": "3.7.1"
  }
 },
 "nbformat": 4,
 "nbformat_minor": 2
}
