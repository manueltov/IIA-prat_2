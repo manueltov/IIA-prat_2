{
 "cells": [
  {
   "cell_type": "markdown",
   "metadata": {},
   "source": [
    "# Introdução à Inteligência Artificial - PEE / 1 - Formulação\n",
    "\n",
    "# Guião Laboratorial\n",
    "(30/Set:04/Out-2019)"
   ]
  },
  {
   "cell_type": "markdown",
   "metadata": {},
   "source": [
    "## Introdução\n",
    "\n",
    "Vamos ver como poderemos, usando a linguagem Python, resolver problemas formulados de acordo com o paradigma do espaço de estados (PEE). Para isso, há que completar dois passos:\n",
    "1. Definir o problema;\n",
    "2. Utilizar um algoritmo de procura para o resolver.\n",
    "\n",
    "Nesta aula vamos tratar apenas da formulação, i.e., da definição do problema."
   ]
  },
  {
   "cell_type": "markdown",
   "metadata": {},
   "source": [
    "Recordando, para formularmos um problema de acordo com esta metododologia, precisamos de:\n",
    "* **Estados**: Idealizar uma representação para o que vamos considerar um estado. Notem que o estado deve ser mínimo, apenas deve conter a informação que muda com as acções; \n",
    "* **Estado Inicial**: Identificar o estado inicial;\n",
    "* **Objectivo**: Verificar se um estado satisfaz o objectivo, sendo assim, um dos estados finais;\n",
    "* **Acções**: Para cada estado, caracterizar rigorosamente as acções de mudança de estado, de que modo incrementam os custos dos caminhos, e quais os estados resultantes."
   ]
  },
  {
   "cell_type": "markdown",
   "metadata": {},
   "source": [
    "## Recursos necessários\n",
    "\n",
    "* Para executar as experiências que se seguem, copie o módulo [searchPlus.py](searchPlus.py) para a directoria de trabalho.\n",
    "* Copie para o mesmo local os outros módulos auxiliares necessários: [utils.py](utils.py)\n",
    "* Crie um novo modulo **pee1.py** para ir realizando as experiências sugeridas."
   ]
  },
  {
   "cell_type": "markdown",
   "metadata": {},
   "source": [
    "## Módulo *searchPlus.py* - breve explicação\n",
    "\n",
    "Este módulo é uma variante muito ligeira do search.py que está disponível no repositório [aima-python](https://github.com/aimacode/aima-python), que contém a implementação (em Python) da generalidade dos algoritmos descritos no livro da disciplina (Russell & Norvig). \n",
    "Muitas das definições deste módulo não serão utilizadas. Vamos apenas concentrar-nos em algumas das suas classes e funções.\n",
    "No essencial, é disponiblizado o seguinte:\n",
    "* A classe **Problem**, que vamos utilizar para definir os problemas;\n",
    "* A classe **Node**, que representa um ***nó de procura***, utilizada pelos algoritmos de procura implementados;\n",
    "* A implementação de vários algoritmos de procura.\n",
    "\n",
    "Para esta aula dedicada à formulação, apenas precisamos de usar a classe **Problem** do módulo, que tem de ser importado, mas não deverá alterá-lo."
   ]
  },
  {
   "cell_type": "code",
   "execution_count": null,
   "metadata": {},
   "outputs": [],
   "source": [
    "from searchPlus import *"
   ]
  },
  {
   "cell_type": "markdown",
   "metadata": {},
   "source": [
    "## Exemplo base \n",
    "Para já, vamos ilustrar com um exemplo de problema que consiste num grafo de estados, com um estado inicial I e final F. Queremos encontrar uma sequência de acções que nos leve de I a F.\n",
    "\n",
    "\n",
    "<img src=\"figura-ee-T-1.png\" alt=\"Drawing\" style=\"width: 300px;\"/>"
   ]
  },
  {
   "cell_type": "markdown",
   "metadata": {},
   "source": [
    "### Representação de um estado\n",
    "Não há qualquer restrição quanto ao tipo que o estado pode assumir (pode ser um inteiro, uma string, uma lista, um tuplo, etc, ou um tipo definido recorrendo a uma nova classe).\n",
    "\n",
    "Neste exemplo do grafo abstracto, o estado é apenas uma etiqueta sem estrutura, Em python, vamos considerar que um estado é uma string de um caracter que corresponde aos nós do grafo. Vamos ter o seguinte conjunto de estados:\n",
    "{'I', 'A','B', 'C', 'D', 'F'}. \n"
   ]
  },
  {
   "cell_type": "markdown",
   "metadata": {},
   "source": [
    "### A classe **Problem**\n",
    "Esta classe funciona como uma classe *abstracta*. Para definir um problema concreto é necessário criar uma sua sub-classe. A classe **Problem** tem um construtor em que se passa o estado inicial e o estado final ou conjunto de estados finais e a função de teste do objectivo apenas verifica se um estado é igual ao estado final ou se pertence ao conjunto dos estados finais, respectivamente; tem também um método ***path_cost()***, por defeito, que considera que todas as acções possuem custo 1, o que é o caso do nosso grafo em cima."
   ]
  },
  {
   "cell_type": "code",
   "execution_count": null,
   "metadata": {},
   "outputs": [],
   "source": [
    "## Apenas a definição da classe, ainda sem qualquer conteúdo\n",
    "class ProblemaGrafo(Problem) :\n",
    "    pass "
   ]
  },
  {
   "cell_type": "markdown",
   "metadata": {},
   "source": [
    "Um problema é criado fornecendo a identificação do estado inicial e, opcionalmente, o objectivo. Veja-se a assinatura do construtor:\n",
    "\n",
    "```python\n",
    "def __init__(self, initial, goal=None):\n",
    "    \"\"\"The constructor specifies the initial state, and possibly a goal\n",
    "        state, if there is a unique goal. Your subclass's constructor can add\n",
    "        other arguments.\"\"\"\n",
    "        self.initial = initial\n",
    "        self.goal = goal\n",
    "```\n",
    "Por exemplo, para criarmos o problema de encontrar um caminho entre **'I'** e **'F'** no espaço acima, poderíamos fazer:"
   ]
  },
  {
   "cell_type": "code",
   "execution_count": null,
   "metadata": {},
   "outputs": [],
   "source": [
    "problema_1 = ProblemaGrafo('I','F')"
   ]
  },
  {
   "cell_type": "markdown",
   "metadata": {},
   "source": [
    "Os atributos **initial** e **goal** guardam esta informação:"
   ]
  },
  {
   "cell_type": "code",
   "execution_count": null,
   "metadata": {},
   "outputs": [],
   "source": [
    "print(problema_1.initial)\n",
    "print(problema_1.goal)"
   ]
  },
  {
   "cell_type": "markdown",
   "metadata": {},
   "source": [
    "#### Definição do objectivo\n",
    "Há duas formas de definir o teste de satisfação do objectivo:\n",
    "1. Indicando explicitamente o seu valor, utilizando o parâmetro ***goal*** do construtor; o parâmetro ***goal*** pode ser também uma lista de estados, nos casos em que existam vários estados finais.\n",
    "2. Redefinindo o método **goal_test()** na classe que define o nosso problema:\n",
    "\n",
    "```python\n",
    "def goal_test(self, state):\n",
    "        \"\"\"Return True if the state is a goal. The default method compares the\n",
    "        state to self.goal or checks for state in self.goal if it is a\n",
    "        list, as specified in the constructor. Override this method if\n",
    "        checking against a single self.goal is not enough.\"\"\"\n",
    "        if isinstance(self.goal, list):\n",
    "            return state in self.goal\n",
    "        else:\n",
    "            return state == self.goal\n",
    "\n",
    "```\n",
    "Este método retornará ```True``` nos casos em que o estado fornecido (**state**) seja o estado final ou membro dos estados finais.\n",
    "\n",
    "No exemplo acima, utilizámos a primeira opção, definindo como objectivo o estado **F**."
   ]
  },
  {
   "cell_type": "markdown",
   "metadata": {},
   "source": [
    "#### Operadores\n",
    "A implementação dos operadores de mudança de estado é feita com base na definição de dois métodos:\n",
    "* ```actions(self, state)``` - Este método, dado um estado, devolve a lista de todas as acções possíveis nesse estado; a representação concreta do que é uma acção fica em aberto.\n",
    "* ```result(self, state, action)``` - Dados um estado e uma acção, este método devolve o estado resulante da execução da acção ***action***, no estado ***state***.\n",
    "\n",
    "A definição destes dois métodos na classe que define o problema é ***obrigatória***. Notem que a classe Problem tem os métodos ***actions()*** e ***result()*** por implementar."
   ]
  },
  {
   "cell_type": "code",
   "execution_count": null,
   "metadata": {},
   "outputs": [],
   "source": [
    "problema_1.actions(problema_1.initial)"
   ]
  },
  {
   "cell_type": "markdown",
   "metadata": {},
   "source": [
    "Continuando o mesmo exemplo, antes de definir estas funções, temos que representar o grafo que define o espaço de estados ilustrado acima.\n",
    "\n",
    "Uma possiblidade é utilizar um dicionário:\n",
    "```python\n",
    "grafo = {'I':['A','B'],\n",
    "         'A':['C','D','I'],\n",
    "         'B':['D','F','I'],\n",
    "         'C':[],\n",
    "         'D':['C','F'],\n",
    "         'F':[]}\n",
    "```\n",
    "Nesta representação de um grafo, a chave é um estado, sendo o valor correspondente a lista dos possíveis sucessores. \n",
    "\n",
    "Como os custos dos arcos são homogéneos, não é necessário representá-los.\n",
    "A classe **Problem** atribui o custo 1 a cada acção por defeito, através do método ***path_cost()***. Mas o método recebe como parâmetro o custo que vai do estado inicial até state1 e adiciona-lhe 1, que é o custo de ir de state1 para state2. \n",
    "\n",
    "```python\n",
    "def path_cost(self, c, state1, action, state2):\n",
    "        \"\"\"Return the cost of a solution path that arrives at state2 from\n",
    "        state1 via action, assuming cost c to get up to state1. If the problem\n",
    "        is such that the path doesn't matter, this function will only look at\n",
    "        state2.  If the path does matter, it will consider c and maybe state1\n",
    "        and action. The default method costs 1 for every step in the path.\"\"\"\n",
    "        return c + 1\n",
    "   \n",
    " ```\n",
    " \n",
    " Não precisaremos de redefinir este método mas apenas o método ***actions()*** e o método ***result()***. Vamos a isso."
   ]
  },
  {
   "cell_type": "markdown",
   "metadata": {},
   "source": [
    "##### Definindo o método ***actions()***\n",
    "Neste exemplo abstracto, uma acção é simplesmente uma transição entre dois estados, X e Y, que poderemos representar pela string **\"Ir de X para Y\"**.\n",
    "\n",
    "Assim, podemos ter a seguinte definição do método ***actions()***:\n",
    "```python\n",
    "def actions(self,estado) :\n",
    "    sucessores = self.grafo[estado]  # obter lista dos sucessores\n",
    "    accoes = map(lambda x : \"ir de {} para {}\".format(estado,x),sucessores) # compor as strings que representam cada uma das possíveis acções\n",
    "    return list(accoes)\n",
    "```\n",
    "\n",
    "Notem que a função ***map()*** aplica uma função a todos os elementos de uma lista. Neste caso, a função é uma função lambda ou anónima, criada e usada na hora."
   ]
  },
  {
   "cell_type": "markdown",
   "metadata": {
    "collapsed": true
   },
   "source": [
    "##### Definindo o método ***result()***\n",
    "O método ***result()*** recebe como um dos parâmetros uma acção, que terá que ter o formato determinado pelo método ***actions()***. Não tem de se preocupar com as pré-condições das acções porque é o método ***actions()*** que trata disso.\n",
    "\n",
    "Como cada acção é uma cadeia de caracteres em que o último é o estado seguinte ou sucessor, destino da acção, o que queremos é obter a última palavra de uma *acção*. Vamos usar o método ***split()*** das strings para partir a frase numa lista de palavras e depois vamos buscar a última, usando o índice -1 de uma lista.\n",
    "```python\n",
    "def result(self, estado, accao) :\n",
    "        \"\"\"Assume-se que uma acção é da forma 'ir de X para Y'\n",
    "        \"\"\"\n",
    "        return accao.split()[-1]\n",
    "```"
   ]
  },
  {
   "cell_type": "markdown",
   "metadata": {},
   "source": [
    "Vejamos então como fica a definição completa da classe:"
   ]
  },
  {
   "cell_type": "code",
   "execution_count": null,
   "metadata": {},
   "outputs": [],
   "source": [
    "class ProblemaGrafo(Problem) :\n",
    "    grafo = {'I':['A','B'],\n",
    "             'A':['C','D','I'],\n",
    "             'B':['D','F','I'],\n",
    "             'C':[],\n",
    "             'D':['C','F'],\n",
    "             'F':[]}\n",
    "\n",
    "    def actions(self,estado) :\n",
    "        sucessores = self.grafo[estado]\n",
    "        accoes = map(lambda x : \"ir de {} para {}\".format(estado,x),sucessores)\n",
    "        return list(accoes)\n",
    "        #\n",
    "        # alternativamente:\n",
    "        # accoes = [\"ir de {} para {}\".format(estado,x) for x in sucessores]\n",
    "        # return accoes\n",
    "        # \n",
    "        # alternaivamente:\n",
    "        # accoes = list()\n",
    "        # for x in sucessores :\n",
    "        #     accoes.append(\"ir de {} para {}\".format(estado,x))\n",
    "        # return accoes\n",
    "\n",
    "    def result(self, estado, accao) :\n",
    "        \"\"\"Assume-se que uma acção é da forma 'ir de X para Y'\n",
    "        \"\"\"\n",
    "        return accao.split()[-1]"
   ]
  },
  {
   "cell_type": "markdown",
   "metadata": {},
   "source": [
    "Podemos então redefinir o nosso problema e verificar se os métodos dão o resultado esperado:"
   ]
  },
  {
   "cell_type": "code",
   "execution_count": null,
   "metadata": {},
   "outputs": [],
   "source": [
    "p1 = ProblemaGrafo('I','F')"
   ]
  },
  {
   "cell_type": "markdown",
   "metadata": {},
   "source": [
    "Vamos listar todos os estados"
   ]
  },
  {
   "cell_type": "code",
   "execution_count": null,
   "metadata": {},
   "outputs": [],
   "source": [
    "print(\"Estados:\")\n",
    "for estado in p1.grafo.keys():\n",
    "    print(estado)"
   ]
  },
  {
   "cell_type": "markdown",
   "metadata": {},
   "source": [
    "Listemos todas as acções possíveis a partir do estado inicial do problema"
   ]
  },
  {
   "cell_type": "code",
   "execution_count": null,
   "metadata": {},
   "outputs": [],
   "source": [
    "p1.actions(p1.initial)"
   ]
  },
  {
   "cell_type": "markdown",
   "metadata": {},
   "source": [
    "Vejemos qual o resultado de executar a acção 'ir de I para B' a partir de I"
   ]
  },
  {
   "cell_type": "code",
   "execution_count": null,
   "metadata": {},
   "outputs": [],
   "source": [
    "p1.result('I','ir de I para B')"
   ]
  },
  {
   "cell_type": "markdown",
   "metadata": {},
   "source": [
    "Testemos se 'B' é o estado final"
   ]
  },
  {
   "cell_type": "code",
   "execution_count": null,
   "metadata": {},
   "outputs": [],
   "source": [
    "p1.goal_test('B')"
   ]
  },
  {
   "cell_type": "markdown",
   "metadata": {},
   "source": [
    "Vamos aplicar a primeira accão ao estado inicial e verifiquemos onde estamos"
   ]
  },
  {
   "cell_type": "code",
   "execution_count": null,
   "metadata": {},
   "outputs": [],
   "source": [
    "p1.result(p1.initial,p1.actions(p1.initial)[0])"
   ]
  },
  {
   "cell_type": "markdown",
   "metadata": {},
   "source": [
    "Vamos testar a satisfação do objectivo e calcular os custo progressivamente à medida que vamos executando a primeira acção dado o estado inicial e a segunda dado o estado resultate."
   ]
  },
  {
   "cell_type": "code",
   "execution_count": null,
   "metadata": {},
   "outputs": [],
   "source": [
    "custo=0\n",
    "e0 = p1.initial\n",
    "print('Em',e0,'com custo',custo)\n",
    "print('Cheguei ao objectivo?',p1.goal_test(e0))\n",
    "a1 = p1.actions(e0)[0]\n",
    "e1 = p1.result(e0,a1)\n",
    "custo = p1.path_cost(custo,e0,a1,e1)\n",
    "print('Após executar a 1ª acção:', a1, 'passei para ',e1, ', com custo',custo)\n",
    "print('Cheguei ao objectivo?',p1.goal_test(e1))\n",
    "a2 = p1.actions(e1)[0]\n",
    "e2 = p1.result(e1,a2)\n",
    "custo = p1.path_cost(custo,e1,a2,e2)\n",
    "print('Após executar a 2ª acção:', a2, 'passei para ',e2, ', com custo',custo)\n",
    "print('Cheguei ao objectivo?',p1.goal_test(e1))"
   ]
  },
  {
   "cell_type": "markdown",
   "metadata": {},
   "source": [
    "#### A função ***__eq()__***\n",
    "Quando existem vários estados finais que podemos enumerar, o método ***goal_test()*** verifica se um estado é membro de uma lista de estados usando \"in\". Neste caso, como os estados são strings o \"in\" funciona bem e não é preciso redefinir o teste de igualdade. De notar que se os estados fossem instâncias de uma classe e não strings, e como dois objectos diferentes mas com o mesmo conteúdo não são naturalmente iguais mas deveriam ser iguais, teríamos de redefinir o ***__eq()__***."
   ]
  },
  {
   "cell_type": "markdown",
   "metadata": {},
   "source": [
    "#### Exercício 1\n",
    "Crie um problema da classe **ProblemaGrafo** com o estado inicial 'A' e estados finais 'F' e 'E' "
   ]
  },
  {
   "cell_type": "markdown",
   "metadata": {},
   "source": [
    "#### Exercício 2\n",
    "Como poderá mudar o grafo da classe **ProblemaGrafo** de modo a poderem utilizar diferentes grafos e não apenas este? Ficam aqui duas sugestões e podem implementar as duas: (1) mudem o valor do atributo estático antes ou depois de criarem uma instância da classe; (2) Refaçam a classe de modo a que o grafo seja passado como parâmetro no construtor, sendo um atributo dinâmico e privado de cada objecto do tipo **ProblemaGrafo**."
   ]
  },
  {
   "cell_type": "markdown",
   "metadata": {},
   "source": [
    "## Grafo abstracto com custos\n"
   ]
  },
  {
   "cell_type": "markdown",
   "metadata": {},
   "source": [
    "Vamos primeiro representar este grafo com custos num dicionário em que cada chave é um estado e em que o valor é um novo dicionário, sendo a chave o estado sucessor e o valor o custo do arco.\n",
    "O grafo será guardado no atributo grafo da nova classe\n",
    "\n",
    "``` python\n",
    "grafo = {'I':{'A':2,'B':5},\n",
    "             'A':{'C':2,'D':4,'I':2},\n",
    "             'B':{'D':1,'F':5,'I':5},\n",
    "             'C':{},\n",
    "             'D':{'C':3,'F':2},\n",
    "             'F':{}}\n",
    "```"
   ]
  },
  {
   "cell_type": "markdown",
   "metadata": {},
   "source": [
    "Olhemos agora para um grafo em que os custos não são homogéneos. Por exemplo este:\n",
    "\n",
    "<img src=\"figura-ee-T-2.png\" alt=\"Drawing\" style=\"width: 300px;\"/>"
   ]
  },
  {
   "cell_type": "markdown",
   "metadata": {},
   "source": [
    "Para além disso, precisamos de criar um método ***path_cost()*** que se vai sobrepor ao método da super-classe **Problem**. Lembram-se que este último devolve sempre 1 como custo.\n",
    "Este método recebe o custo actual do caminho (c) desde o estado inicial até ao estado ***state1***, calculado pelo algoritmo de procura. A acção (***action***) provoca uma transição entre ***state1*** e ***state2*** e o custo da acção é adicionado a ***c***.\n",
    "Para sabermos qual o custo da acção que leva do ***state1*** ao ***state2*** teremos de ir ler no grafo."
   ]
  },
  {
   "cell_type": "markdown",
   "metadata": {},
   "source": [
    "``` python\n",
    "def path_cost(self, c, state1, action, state2):\n",
    "        return c + self.grafo[state1][state2]\n",
    "```"
   ]
  },
  {
   "cell_type": "markdown",
   "metadata": {},
   "source": [
    "Vejamos então a definição completa da nova classe:"
   ]
  },
  {
   "cell_type": "code",
   "execution_count": null,
   "metadata": {},
   "outputs": [],
   "source": [
    "class ProblemaGrafoCustos(Problem) :\n",
    "    grafo = {'I':{'A':2,'B':5},\n",
    "             'A':{'C':2,'D':4,'I':2},\n",
    "             'B':{'D':1,'F':5,'I':5},\n",
    "             'C':{},\n",
    "             'D':{'C':3,'F':2},\n",
    "             'F':{}}\n",
    "\n",
    "    def __init__(self,initial = 'I', final = 'F') :\n",
    "        super().__init__(initial,final)\n",
    "        \n",
    "    def actions(self,estado) :\n",
    "        sucessores = self.grafo[estado].keys()  # métodos keys() devolve a lista das chaves do dicionário\n",
    "        accoes = list(map(lambda x : \"ir de {} para {}\".format(estado,x),sucessores))\n",
    "        return accoes\n",
    "\n",
    "    def result(self, estado, accao) :\n",
    "        \"\"\"Assume-se que uma acção é da forma 'ir de X para Y'\n",
    "        \"\"\"\n",
    "        return accao.split()[-1]\n",
    "    \n",
    "    def path_cost(self, c, state1, action, state2):\n",
    "        \"\"\"Assume-se que action é da forma 'ir de <state1> para <state2>'\n",
    "        \"\"\"\n",
    "        return c + self.grafo[state1][state2]\n"
   ]
  },
  {
   "cell_type": "markdown",
   "metadata": {},
   "source": [
    "Vamos criar um problema e executar algumas operações."
   ]
  },
  {
   "cell_type": "code",
   "execution_count": null,
   "metadata": {},
   "outputs": [],
   "source": [
    "p = ProblemaGrafoCustos()\n",
    "custo = 0\n",
    "print(\"Estado inicial:\",p.initial, 'com custo',custo)\n",
    "print(\"Estado final:\",p.goal)\n",
    "actions = p.actions(p.initial)\n",
    "print('Cheguei ao objectivo?',p1.goal_test(e0))\n",
    "print(\"As acções do estado inicial:\",str(actions))\n",
    "e1 = p.result(p.initial,actions[1])\n",
    "print(\"Partindo de\", p.initial,\"executo a acção de \" + actions[1]+\" e vou parar em :\",e1)\n",
    "custo = p.path_cost(0,p.initial,actions[1],e1)\n",
    "print(\"O custo desde o início é:\",custo)\n",
    "print('Cheguei ao objectivo?',p1.goal_test(e1))\n",
    "e2 = p.result(e1,p1.actions(e1)[1])\n",
    "print(\"Partindo de\", e1,\"executo a acção de \" + p1.actions(e1)[1]+\" e vou parar em :\",e2)\n",
    "custo = p.path_cost(custo,e1,actions[1],e2)\n",
    "print(\"O custo desde o início é:\",custo)\n",
    "print('Cheguei ao objectivo?',p1.goal_test(e2))"
   ]
  },
  {
   "cell_type": "markdown",
   "metadata": {},
   "source": [
    "## O Problema da inversão das setas\n",
    "<img src=\"6arrows.PNG\" alt=\"Drawing\" style=\"width: 300px;\"/>\n",
    "Nesta aula vamos ver como poderemos, usando a linguagem Python, formular o problema da inversão das setas\n",
    "\n",
    "Recordando o enunciado: Imagine que temos seis setas dispostas de cima para baixo, em que as primeiras 3 estão orientadas para a esquerda e as 3 últimas para a direita e que queremos obter seis setas com orientação alternadas, quando o único movimento possível é inverter a orientação de duas setas adjacentes.\n",
    "\n",
    "Se partirmos da situação inicial e aplicarmos a inversão das duas primeiras setas, obteremos todas orientadas para a direita, excepto a terceira."
   ]
  },
  {
   "cell_type": "markdown",
   "metadata": {},
   "source": [
    "### Representação dos estados\n",
    "Podemos representar os estados deste problema como sendo objectos com um atributo que é uma lista de comprimento 6 em que da esquerda para a direita representamos a orientação das setas de cima para baixo, em que \"d\" indica que uma seta aponta para a direita e \"e\" representa o sentido da seta para a esquerda. A situação inicial é dada pela lista: [e,e,e,d,d,d]\n",
    "\n",
    "Vamos ter um atributo ***setas*** onde guardamos a lista.\n",
    "\n",
    "Precisamos de um método que inverta uma seta: de \"e\" para \"d\" e viceversa.\n",
    "\n",
    "E precisamos de um método que permita inverter um par de setas adjacentes indicando o primeiro índice: 1 para inverter a primeira e a segunda, ..., 5 para inverter a quinta e sexta setas.\n",
    "\n",
    "Finalmente, precisamos de imprimir as setas de um modo mais ou menos \"pretty\".  "
   ]
  },
  {
   "cell_type": "code",
   "execution_count": null,
   "metadata": {},
   "outputs": [],
   "source": [
    "class EstadoSetas :\n",
    "\n",
    "    \"\"\"Um estado do problema da inversao das setas\n",
    "        Uma lista de 6 setas (e's ou d's), indicando para cada seta se está orientada\n",
    "        para a esquerda para para a direita\n",
    "        A ordem da esquerda para a direita corresponde às setas de cima para baixo\n",
    "    \"\"\"\n",
    "    def __init__(self,setas = [\"e\",\"e\",\"e\",\"d\",\"d\",\"d\"]) :\n",
    "        self.setas = setas\n",
    "\n",
    "        \n",
    "    def flip(self,seta) :\n",
    "        \"\"\" Inversão do sentido de uma seta: de e para d e de d para e\"\"\"\n",
    "        if seta==\"e\":\n",
    "            return \"d\"\n",
    "        else:\n",
    "            return \"e\"\n",
    "\n",
    "    def inverte(self,n) :\n",
    "        \"\"\" Inverte duas setas, na posição n e n+1. A primeira seta está na posição 0\n",
    "            e para inverter a primeira e a segunda, de cima para baixo, implica n = 0.\n",
    "            Gera uma nova lista.\n",
    "        \"\"\"\n",
    "        copye = []\n",
    "        for i in range(len(self.setas)) :\n",
    "            if i == n-1 or i == n :\n",
    "                copye.append(self.flip(self.setas[i]))\n",
    "            else:\n",
    "                copye.append(self.setas[i])\n",
    "        return EstadoSetas(copye)\n",
    "        \n",
    "    def __str__(self) :\n",
    "        return str(\"-\".join(self.setas))"
   ]
  },
  {
   "cell_type": "markdown",
   "metadata": {},
   "source": [
    "Podemos criar uma instância de um estado, por exemplo, o caso inicial do problema,  desta maneira, sem passar quaisquer argumentos:"
   ]
  },
  {
   "cell_type": "code",
   "execution_count": null,
   "metadata": {},
   "outputs": [],
   "source": [
    "x = EstadoSetas()\n",
    "print(x)"
   ]
  },
  {
   "cell_type": "markdown",
   "metadata": {},
   "source": [
    "Se quisermos criar uma nova instância, com outra combinação de orientações teremos de \"pisar\" o valor por omissão."
   ]
  },
  {
   "cell_type": "code",
   "execution_count": null,
   "metadata": {},
   "outputs": [],
   "source": [
    "x = EstadoSetas([\"d\",\"e\",\"d\",\"d\",\"d\",\"e\"])\n",
    "print(x)"
   ]
  },
  {
   "cell_type": "markdown",
   "metadata": {},
   "source": [
    "Se quisermos inverter a segunda e terceira seta de x, faremos:"
   ]
  },
  {
   "cell_type": "code",
   "execution_count": null,
   "metadata": {},
   "outputs": [],
   "source": [
    "print(\"Começamos com:\",x)\n",
    "y = x.inverte(1)\n",
    "print('Dado',x,\"inverte a primeira e a segunda:\",y)\n",
    "z = y.inverte(2)\n",
    "print('Dado',y,\"inverte a segunda e terceira setas:\",z)"
   ]
  },
  {
   "cell_type": "markdown",
   "metadata": {},
   "source": [
    "Podemos agora inverter de novo a 1ª e 2ª setas , depois de inverter a 2ª e 3ª, regressando à configuração inicial."
   ]
  },
  {
   "cell_type": "code",
   "execution_count": null,
   "metadata": {},
   "outputs": [],
   "source": [
    "f = z.inverte(2).inverte(1)\n",
    "print(\"Iguais?\",f == x)\n",
    "print(\"f =\",f)\n",
    "print(\"x =\",x)"
   ]
  },
  {
   "cell_type": "markdown",
   "metadata": {},
   "source": [
    "Como pudemos ver, os dois estados não são considerados iguais embora os seus atributos *setas* sejam iguais. São duas instâncias diferentes. Assim, a função de teste ***goal_test()*** herdada de Problem não irá funcionar porque para verificar se um objecto é membro de uma lista é preciso que esse objecto seja membro da lista, i.e., igual a algum elemento da lista."
   ]
  },
  {
   "cell_type": "code",
   "execution_count": null,
   "metadata": {},
   "outputs": [],
   "source": [
    "EstadoSetas(['d','e','d','e','d','e']) in [EstadoSetas(['d','e','d','e','d','e']),EstadoSetas(['e','d','e','d','e','d'])]"
   ]
  },
  {
   "cell_type": "code",
   "execution_count": null,
   "metadata": {},
   "outputs": [],
   "source": [
    "EstadoSetas(['d','e','d','e','d','e']) == EstadoSetas(['d','e','d','e','d','e'])"
   ]
  },
  {
   "cell_type": "markdown",
   "metadata": {},
   "source": [
    "Vamos definir o método __eq__ de modo a que os estados sejam considerados iguais quando as ***setas*** forem iguais.\n",
    "\n",
    "``` python\n",
    "    def __eq__(self,estado) :\n",
    "        \"\"\"Definir em que circunstância os dois estados são considerados iguais.\n",
    "        Necessário para os algoritmos de procura em grafo.\n",
    "        \"\"\"\n",
    "        return self.setas == estado.setas\n",
    "```\n",
    "\n"
   ]
  },
  {
   "cell_type": "markdown",
   "metadata": {},
   "source": [
    "Vejemos a redefinição da classe **Setas()**"
   ]
  },
  {
   "cell_type": "code",
   "execution_count": null,
   "metadata": {},
   "outputs": [],
   "source": [
    "class EstadoSetas :\n",
    "\n",
    "    \"\"\"Um estado do problema da inversao das setas\n",
    "        Uma lista de 6 setas (e's ou d's), indicando para cada seta se está orientada\n",
    "        para a esquerda para para a direita\n",
    "        A ordem da esquerda para a direita corresponde às setas de cima para baixo\n",
    "    \"\"\"\n",
    "    def __init__(self,setas = [\"e\",\"e\",\"e\",\"d\",\"d\",\"d\"]) :\n",
    "        self.setas = setas\n",
    "\n",
    "        \n",
    "    def flip(self,seta) :\n",
    "        \"\"\" Inversão do sentido de uma seta: de e para d e de d para e\"\"\"\n",
    "        if seta==\"e\":\n",
    "            return \"d\"\n",
    "        else:\n",
    "            return \"e\"\n",
    "\n",
    "    def inverte(self,n) :\n",
    "        \"\"\" Inverte duas setas, na posição n e n+1. A primeira seta está na posição 0\n",
    "            e para inverter a primeira e a segunda, de cima para baixo, implica n = 0.\n",
    "            Gera uma nova lista.\n",
    "        \"\"\"\n",
    "        copye = []\n",
    "        for i in range(len(self.setas)) :\n",
    "            if i == n-1 or i == n :\n",
    "                copye.append(self.flip(self.setas[i]))\n",
    "            else:\n",
    "                copye.append(self.setas[i])\n",
    "        return EstadoSetas(copye)\n",
    "    \n",
    "    def __eq__(self,estado) :\n",
    "        \"\"\"Definir em que circunstância os dois estados são considerados iguais.\n",
    "        Necessário para os algoritmos de procura em grafo.\n",
    "        \"\"\"\n",
    "        return self.setas == estado.setas\n",
    "        \n",
    "    def __str__(self) :\n",
    "        \"\"\"setas (d ou e) separadas por \"-\"s\n",
    "        \"\"\"\n",
    "        return str(\"-\".join(self.setas))\n",
    "    "
   ]
  },
  {
   "cell_type": "markdown",
   "metadata": {},
   "source": [
    "Voltemos a repetir as acções que fizemos lá trás."
   ]
  },
  {
   "cell_type": "code",
   "execution_count": null,
   "metadata": {},
   "outputs": [],
   "source": [
    "x = EstadoSetas([\"d\",\"e\",\"d\",\"d\",\"d\",\"e\"])\n",
    "print(\"Começamos com:\",x)\n",
    "y = x.inverte(1)\n",
    "print(\"Agora, inverte a primeira e a segunda:\",y)\n",
    "z = y.inverte(2)\n",
    "print(\"E inverte a segunda e terceira setas:\",z)\n",
    "f = z.inverte(2).inverte(1)\n",
    "print(\"Façamos o inverso das duas inversões:\",f)\n",
    "print(\"Os dois estados (o original e este que resulta de 4 acções) serão iguais?\",f==x)"
   ]
  },
  {
   "cell_type": "markdown",
   "metadata": {},
   "source": [
    "Confirmemos mais uma vez que dois objectos diferentes com setas iguais, são iguais"
   ]
  },
  {
   "cell_type": "code",
   "execution_count": null,
   "metadata": {},
   "outputs": [],
   "source": [
    "EstadoSetas([\"d\",\"e\",\"d\",\"d\",\"d\",\"e\"]) == EstadoSetas([\"d\",\"e\",\"d\",\"d\",\"d\",\"e\"])"
   ]
  },
  {
   "cell_type": "markdown",
   "metadata": {},
   "source": [
    "Vamos agora definir a classe do Problema que vai ser uma subclasse da classe **Problem**. Notem que não é preciso ***goal_test()*** nem ***path_cost()***. Não precisamos do ***goal_test()*** porque apenas queremos verificar se um estado está na lista de estados finais, que o ***goal_test()*** herdado de **Problem** faz. Não precisamos do ***path_cost()*** porque cada acção custa mais 1."
   ]
  },
  {
   "cell_type": "code",
   "execution_count": null,
   "metadata": {},
   "outputs": [],
   "source": [
    "from searchPlus import *\n",
    "\n",
    "\n",
    "class ProblemaSetas(Problem) :\n",
    "    \n",
    "    def __init__(self,initial = EstadoSetas([\"e\",\"e\",\"e\",\"d\",\"d\",\"d\"]),goal=[EstadoSetas([\"e\",\"d\",\"e\",\"d\",\"e\",\"d\"]),EstadoSetas([\"d\",\"e\",\"d\",\"e\",\"d\",\"e\"])]) :\n",
    "        super().__init__(initial,goal)\n",
    "\n",
    "    \n",
    "    def actions(self,estado) :\n",
    "        \"\"\" A acção 0 corresponde a inverter as setas de índices 0 e 1 da lista\n",
    "            A acção 4 coorresponde a inverter as setas de índices 4 e 5, as últimas duas \"\"\"\n",
    "        accoes = [1,2,3,4,5]\n",
    "        \n",
    "        return accoes \n",
    "\n",
    "    def result(self,estado,acao) :\n",
    "        if acao in self.actions(estado) :\n",
    "          resultante = estado.inverte(acao)\n",
    "        else :\n",
    "            raise \"Há aqui qualquer coisa mal>> acao não reconhecida\"\n",
    " \n",
    "        return resultante"
   ]
  },
  {
   "cell_type": "code",
   "execution_count": null,
   "metadata": {},
   "outputs": [],
   "source": [
    "p = ProblemaSetas()\n",
    "print(p.initial)"
   ]
  },
  {
   "cell_type": "markdown",
   "metadata": {},
   "source": [
    "Confirmemos que o ***goal_test()*** herdado esta a funcionar bem."
   ]
  },
  {
   "cell_type": "code",
   "execution_count": null,
   "metadata": {},
   "outputs": [],
   "source": [
    "x = EstadoSetas(['d','e','d','e','d','e'])\n",
    "print(x,\"satisfaz o objectivo?\",p.goal_test(x))\n",
    "y = EstadoSetas(['d','d','d','e','d','e'])\n",
    "print(y,\"satisfaz o objectivo?\",p.goal_test(y))"
   ]
  },
  {
   "cell_type": "markdown",
   "metadata": {},
   "source": [
    "Quais as acções aplicáveis ao estado inicial?"
   ]
  },
  {
   "cell_type": "code",
   "execution_count": null,
   "metadata": {},
   "outputs": [],
   "source": [
    "p.actions(p.initial)"
   ]
  },
  {
   "cell_type": "markdown",
   "metadata": {},
   "source": [
    "Apliquemos a acção 1 ao estado inicial"
   ]
  },
  {
   "cell_type": "code",
   "execution_count": null,
   "metadata": {},
   "outputs": [],
   "source": [
    "s1 = p.result(p.initial,1)\n",
    "print(s1)"
   ]
  },
  {
   "cell_type": "markdown",
   "metadata": {},
   "source": [
    "Confirmemos que se voltarmos a aplicar a mesma acção regressamos ao estado inicial"
   ]
  },
  {
   "cell_type": "code",
   "execution_count": null,
   "metadata": {},
   "outputs": [],
   "source": [
    "s2 = p.result(s1,1)\n",
    "s2 == p.initial"
   ]
  },
  {
   "cell_type": "markdown",
   "metadata": {},
   "source": [
    "Vamos agora aplicar as acções 1, 2, 3 e 4 sobre o estado inicial e verifiquemos se o estado resultante é final. Podemos começar logo com s2 que resulta da aplicação da inversão da primeira e segunda setas (1)."
   ]
  },
  {
   "cell_type": "code",
   "execution_count": null,
   "metadata": {},
   "outputs": [],
   "source": [
    "s3 = p.result(s2,2)\n",
    "print(s3)\n",
    "s4 = p.result(s3,3)\n",
    "print(s4)\n",
    "s5 = p.result(s4,4)\n",
    "print(s5)\n",
    "print(\"Final?\",p.goal_test(s5))"
   ]
  },
  {
   "cell_type": "markdown",
   "metadata": {},
   "source": [
    "#### Exercício 3\n",
    "Extra: adapte o problema para qualquer número de setas."
   ]
  },
  {
   "cell_type": "markdown",
   "metadata": {},
   "source": [
    "#### Exercício 4\n",
    "Supõe que tens um número arbitrário de moedas de 50, 20, 10, 5, 2 e 1 cêntimos, e que pretendes dar o troco no valor de N cêntimos, utilizando o menor número de moedas. Formula o problema em Python, seguindo o paradigma do Espaço de Estados e a plataforma aimas-python, de modo a poder resolver o problema de saber quais as moedas a utilizar para formar qualquer troco desejado."
   ]
  },
  {
   "cell_type": "markdown",
   "metadata": {},
   "source": [
    "#### Exercício 5\n",
    "Resolva o problema da ordenação das panquecas. Dada uma pilha de panquecas de vários tamanhos, podem ordená-las de modo descrescente, com a maior em baixo e a mais pequena no topo? Vocês possuem uma espátula com a qual podem inverter as i panquecas do topo, sendo i maior do que 1 e menor ou igual ao número de panquecas. Podemos inverter as duas de topo, ou as 3 de topo, ..., ou todas. A figura em baixo ilustra o problema com uma espátula com i=3; no topo a espátula agarra 3 panquecas e no fundo aparecem invertidas:\n",
    "\n",
    "<img src=\"https://upload.wikimedia.org/wikipedia/commons/0/0f/Pancake_sort_operation.png\" alt=\"Drawing\" style=\"width: 200px;\"/>\n"
   ]
  },
  {
   "cell_type": "markdown",
   "metadata": {},
   "source": [
    "#### Exercício 6\n",
    "Formule o problema das rãs e sapos saltitantes.\n",
    "Neste puzzle, o qual também pode ser um jogo para dois jogadores, temos uma linha formada por quadrados, com N quadrados à esquerda preenchidos com rãs azuis e N quadrados à direita preenchidos com sapos vermelhos, e um quadrado livre no meio. Os sapos só podem saltar para a esquerda e as rãs para a direita. As rãs podem deslocar-se para a direita para uma casa livre ou saltar sobre uma rã ou sapo, para uma casa livre à sua direita. Os sapos movem-se de forma análoga, mas para a esquerda. O objectivo é inverter a configuração inicial, tendo os sapos à esquerda, a casa livre e as rãs todas à direita. Na figura seguinte, N é igual a 2.\n",
    "\n",
    "![](https://upload.wikimedia.org/wikipedia/commons/2/2f/ToadsAndFrogs.png)"
   ]
  }
 ],
 "metadata": {
  "kernelspec": {
   "display_name": "Python 3",
   "language": "python",
   "name": "python3"
  },
  "language_info": {
   "codemirror_mode": {
    "name": "ipython",
    "version": 3
   },
   "file_extension": ".py",
   "mimetype": "text/x-python",
   "name": "python",
   "nbconvert_exporter": "python",
   "pygments_lexer": "ipython3",
   "version": "3.7.1"
  }
 },
 "nbformat": 4,
 "nbformat_minor": 2
}
