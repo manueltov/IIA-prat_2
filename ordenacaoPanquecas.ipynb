{
 "cells": [
  {
   "cell_type": "markdown",
   "metadata": {},
   "source": [
    "# Ordenação das Pilha de Panquecas\n",
    "Dada uma pilha de panquecas de vários tamanhos, podem ordená-las de modo descrescente, com a maior em baixo e a mais pequena no topo? Voçês possuem uma espátula com a qual podem inverter as i panquecas do topo, sendo i maior do que 1 e menor ou igual ao número de panquecas. Podemos inverter as duas de topo, ou as 3 de topo, ..., ou todas. A figura em baixo ilustra o problema com uma espátula com i=3; no topo espátula agarra 3 panquecas e no fundo aparecem invertidas:\n",
    "\n",
    "<img src=\"https://upload.wikimedia.org/wikipedia/commons/0/0f/Pancake_sort_operation.png\" alt=\"Drawing\" style=\"width: 200px;\"/>\n",
    "\n",
    "Notem que desejamos inverter o menor número de panquecas, o que obriga a que o custo corresponda ao número de panquecas invertidas."
   ]
  },
  {
   "cell_type": "markdown",
   "metadata": {},
   "source": [
    "## Formulação\n",
    "Vamos representar os estados, as pilhas de panquecas, como um tuplo ordenado do topo para o fundo em que cada panqueca corresponde ao tamanho: a mais pequena é 1, a segunda mais pequena é a 2e por aí adiante; e assim o objectivo é o tuplo (1, 2, ..., *n*) e o estado inicial é (2, 1, 4, 6, 3, 5)."
   ]
  },
  {
   "cell_type": "markdown",
   "metadata": {},
   "source": [
    "## Implementação em Python\n",
    "Escolhendo o tuplo para o estado, podemos escapar-nos de uma modelização mais purista Objecto Oriented e passar logo à classe do problema. Notem que não é necessário redefinir o ***equal()*** nem o ***hash()*** porque usamos um tuplo, nem o ***path_cost()*** porque o custo de cada acção é sempre 1, nem o goal_test() porque sabemos qual o estado final desejado."
   ]
  },
  {
   "cell_type": "code",
   "execution_count": 1,
   "metadata": {},
   "outputs": [],
   "source": [
    "from searchPlus import *\n",
    "\n",
    "class PancakeProblem(Problem):\n",
    "    \n",
    "    def __init__(self, initial):\n",
    "        \"\"\"O objectivo é o tuplo ordenado por ordem crescente e o estado inicial é uma permutação de range(1, n+1).\n",
    "        \"\"\"\n",
    "        self.initial, self.goal = tuple(initial), tuple(sorted(initial))\n",
    "    \n",
    "    def actions(self, state):\n",
    "        \"\"\" As acções variam entre 2 e o número de panquecas\n",
    "        \"\"\"\n",
    "        return range(2, len(state) + 1)\n",
    "\n",
    "    def result(self, state, i):\n",
    "        \"\"\"Inverte-se as primeiras i panquecas e concatena-se com as que sobram\n",
    "        \"\"\"\n",
    "        return state[:i][::-1] + state[i:]\n",
    "    \n",
    "    def path_cost(self, state1,action,next_state):\n",
    "        \"\"\" A acção corresponde ao custo, porque inverter as n panquecas de topo\n",
    "        corresponde a inverter n panquecas.\n",
    "        \"\"\"\n",
    "        return action\n"
   ]
  },
  {
   "cell_type": "markdown",
   "metadata": {},
   "source": [
    "Vamos criar um objecto do tipo **PancakeProblem**"
   ]
  },
  {
   "cell_type": "code",
   "execution_count": 2,
   "metadata": {},
   "outputs": [],
   "source": [
    "c0 = PancakeProblem((2, 1, 4, 6, 3, 5))"
   ]
  },
  {
   "cell_type": "markdown",
   "metadata": {},
   "source": [
    "Vamos verificar qual o estado inicial:"
   ]
  },
  {
   "cell_type": "code",
   "execution_count": 3,
   "metadata": {},
   "outputs": [
    {
     "data": {
      "text/plain": [
       "(2, 1, 4, 6, 3, 5)"
      ]
     },
     "execution_count": 3,
     "metadata": {},
     "output_type": "execute_result"
    }
   ],
   "source": [
    "c0.initial"
   ]
  },
  {
   "cell_type": "markdown",
   "metadata": {},
   "source": [
    "e final:"
   ]
  },
  {
   "cell_type": "code",
   "execution_count": 4,
   "metadata": {},
   "outputs": [
    {
     "data": {
      "text/plain": [
       "(1, 2, 3, 4, 5, 6)"
      ]
     },
     "execution_count": 4,
     "metadata": {},
     "output_type": "execute_result"
    }
   ],
   "source": [
    "c0.goal"
   ]
  },
  {
   "cell_type": "markdown",
   "metadata": {},
   "source": [
    "Quais as acções que se podem aplicar ao estado inicial?"
   ]
  },
  {
   "cell_type": "code",
   "execution_count": 5,
   "metadata": {},
   "outputs": [
    {
     "name": "stdout",
     "output_type": "stream",
     "text": [
      "range(2, 7)\n"
     ]
    }
   ],
   "source": [
    "acs=c0.actions(c0.initial)\n",
    "print(acs)"
   ]
  },
  {
   "cell_type": "markdown",
   "metadata": {},
   "source": [
    "Qual a primeira dessas acções?"
   ]
  },
  {
   "cell_type": "code",
   "execution_count": 6,
   "metadata": {},
   "outputs": [
    {
     "data": {
      "text/plain": [
       "2"
      ]
     },
     "execution_count": 6,
     "metadata": {},
     "output_type": "execute_result"
    }
   ],
   "source": [
    "acs[0]"
   ]
  },
  {
   "cell_type": "markdown",
   "metadata": {},
   "source": [
    "A última?"
   ]
  },
  {
   "cell_type": "code",
   "execution_count": 7,
   "metadata": {},
   "outputs": [
    {
     "data": {
      "text/plain": [
       "6"
      ]
     },
     "execution_count": 7,
     "metadata": {},
     "output_type": "execute_result"
    }
   ],
   "source": [
    "acs[-1]"
   ]
  },
  {
   "cell_type": "markdown",
   "metadata": {},
   "source": [
    "Vamos inverter as 3 panquecas do topo, partindo do estado inicial"
   ]
  },
  {
   "cell_type": "code",
   "execution_count": 10,
   "metadata": {},
   "outputs": [
    {
     "name": "stdout",
     "output_type": "stream",
     "text": [
      "no início: (2, 1, 4, 6, 3, 5)\n",
      "Invertemos as 3 de topo (4, 1, 2, 6, 3, 5)\n",
      "com custo: 3\n"
     ]
    }
   ],
   "source": [
    "print('no início:',c0.initial)\n",
    "e1 = c0.result(c0.initial,3)\n",
    "print('Invertemos as 3 de topo',e1)\n",
    "print(\"com custo:\", c0.path_cost(c0.initial,3,e1))"
   ]
  }
 ],
 "metadata": {
  "kernelspec": {
   "display_name": "Python 3",
   "language": "python",
   "name": "python3"
  },
  "language_info": {
   "codemirror_mode": {
    "name": "ipython",
    "version": 3
   },
   "file_extension": ".py",
   "mimetype": "text/x-python",
   "name": "python",
   "nbconvert_exporter": "python",
   "pygments_lexer": "ipython3",
   "version": "3.7.1"
  }
 },
 "nbformat": 4,
 "nbformat_minor": 2
}
